{
 "cells": [
  {
   "cell_type": "markdown",
   "metadata": {},
   "source": [
    "# Image collection and labeling"
   ]
  },
  {
   "cell_type": "markdown",
   "metadata": {},
   "source": [
    "## Imports"
   ]
  },
  {
   "cell_type": "code",
   "execution_count": 4,
   "metadata": {},
   "outputs": [],
   "source": [
    "from tkinter.tix import IMAGE\n",
    "import cv2\n",
    "import uuid\n",
    "import os\n",
    "import time"
   ]
  },
  {
   "cell_type": "markdown",
   "metadata": {},
   "source": [
    "## Labelling initialization"
   ]
  },
  {
   "cell_type": "code",
   "execution_count": 5,
   "metadata": {},
   "outputs": [],
   "source": [
    "\n",
    "labels = ['teodiopedro','uwu','demonio','nice']\n",
    "num_images = 5 # How many images are been taking for each label"
   ]
  },
  {
   "cell_type": "markdown",
   "metadata": {},
   "source": [
    "## Folder structure creation"
   ]
  },
  {
   "cell_type": "code",
   "execution_count": 6,
   "metadata": {},
   "outputs": [],
   "source": [
    "IMAGES_PATH = os.path.join('tensorflow','workspace','images')\n",
    "\n",
    "if not os.path.exists(IMAGES_PATH):\n",
    "   os.makedirs(IMAGES_PATH)\n",
    "   \n",
    "# Create label folders\n",
    "for label in labels:\n",
    "    label_path = os.path.join(IMAGES_PATH, label)\n",
    "    if not os.path.exists(label_path):\n",
    "        os.mkdir(label_path)"
   ]
  },
  {
   "cell_type": "markdown",
   "metadata": {},
   "source": [
    "## Capture images"
   ]
  },
  {
   "cell_type": "code",
   "execution_count": 7,
   "metadata": {},
   "outputs": [
    {
     "name": "stdout",
     "output_type": "stream",
     "text": [
      "Collecting images for teodiopedro\n",
      "Taking image number 0\n",
      "Taking image number 1\n",
      "Taking image number 2\n",
      "Taking image number 3\n",
      "Taking image number 4\n",
      "Collecting images for uwu\n",
      "Taking image number 0\n",
      "Taking image number 1\n",
      "Taking image number 2\n",
      "Taking image number 3\n",
      "Taking image number 4\n",
      "Collecting images for demonio\n",
      "Taking image number 0\n",
      "Taking image number 1\n",
      "Taking image number 2\n",
      "Taking image number 3\n",
      "Taking image number 4\n",
      "Collecting images for nice\n",
      "Taking image number 0\n",
      "Taking image number 1\n",
      "Taking image number 2\n",
      "Taking image number 3\n",
      "Taking image number 4\n"
     ]
    }
   ],
   "source": [
    "for label in labels:\n",
    "    cap_device = cv2.VideoCapture(0)\n",
    "    print('Collecting images for {}'.format(label))\n",
    "    time.sleep(5) # Time waited before starting to  capture\n",
    "    for imgnum in range(num_images):\n",
    "        print('Taking image number {}'.format(imgnum))\n",
    "        ret, frame = cap_device.read()\n",
    "        img_path = os.path.join(IMAGES_PATH, label, label+'.{}.jpeg'.format(uuid.uuid1()))\n",
    "        cv2.imwrite(img_path, frame)\n",
    "        cv2.imshow('frame',frame)\n",
    "        time.sleep(2) # Time between captures\n",
    "        \n",
    "        if cv2.waitKey(1) and 0xFF == ord('q'):\n",
    "            break; # If 'q' is pressed then exit process\n",
    "cap_device.release()\n",
    "cv2.destroyAllWindows()\n",
    "        "
   ]
  },
  {
   "cell_type": "markdown",
   "metadata": {},
   "source": [
    "#"
   ]
  }
 ],
 "metadata": {
  "interpreter": {
   "hash": "5410eaae3c7d54e8fdccb646692dd598a498e900b3204eeef5b540a783e37412"
  },
  "kernelspec": {
   "display_name": "Python 3.10.4 ('tfod': venv)",
   "language": "python",
   "name": "python3"
  },
  "language_info": {
   "codemirror_mode": {
    "name": "ipython",
    "version": 3
   },
   "file_extension": ".py",
   "mimetype": "text/x-python",
   "name": "python",
   "nbconvert_exporter": "python",
   "pygments_lexer": "ipython3",
   "version": "3.10.4"
  },
  "orig_nbformat": 4
 },
 "nbformat": 4,
 "nbformat_minor": 2
}
